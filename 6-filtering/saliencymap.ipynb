{
 "cells": [
  {
   "cell_type": "code",
   "execution_count": null,
   "metadata": {},
   "outputs": [],
   "source": [
    "import cv2\n",
    "import matplotlib.pyplot as plt\n",
    "import pySaliencyMap\n"
   ]
  },
  {
   "cell_type": "code",
   "execution_count": null,
   "metadata": {},
   "outputs": [],
   "source": [
    "# read\n",
    "    img = cv2.imread('test3.jpg')\n",
    "    # initialize\n",
    "    imgsize = img.shape\n",
    "    img_width  = imgsize[1]\n",
    "    img_height = imgsize[0]\n",
    "    sm = pySaliencyMap.pySaliencyMap(img_width, img_height)\n",
    "    # computation\n",
    "    saliency_map = sm.SMGetSM(img)\n",
    "    binarized_map = sm.SMGetBinarizedSM(img)\n",
    "    salient_region = sm.SMGetSalientRegion(img)\n",
    "    # visualize\n",
    "#    plt.subplot(2,2,1), plt.imshow(img, 'gray')\n",
    "    plt.subplot(2,2,1), plt.imshow(cv2.cvtColor(img, cv2.COLOR_BGR2RGB))\n",
    "    plt.title('Input image')\n",
    "#    cv2.imshow(\"input\",  img)\n",
    "    plt.subplot(2,2,2), plt.imshow(saliency_map, 'gray')\n",
    "    plt.title('Saliency map')\n",
    "#    cv2.imshow(\"output\", map)\n",
    "\n",
    "    plt.subplot(2,2,3), plt.imshow(binarized_map)\n",
    "    plt.title('Binarilized saliency map')\n",
    "#    cv2.imshow(\"Binarized\", binarized_map)\n",
    "    plt.subplot(2,2,4), plt.imshow(cv2.cvtColor(salient_region, cv2.COLOR_BGR2RGB))\n",
    "    plt.title('Salient region')\n",
    "#    cv2.imshow(\"Segmented\", segmented_map)\n",
    "\n",
    "    plt.show()\n",
    "#    cv2.waitKey(0)\n",
    "    #cv2.destroyAllWindows()"
   ]
  }
 ],
 "metadata": {
  "language_info": {
   "name": "python"
  }
 },
 "nbformat": 4,
 "nbformat_minor": 2
}
